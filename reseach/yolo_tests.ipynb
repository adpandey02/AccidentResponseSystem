{
 "cells": [
  {
   "cell_type": "code",
   "execution_count": 1,
   "metadata": {},
   "outputs": [],
   "source": [
    "from ultralytics import YOLO\n",
    "import os\n"
   ]
  },
  {
   "cell_type": "code",
   "execution_count": 8,
   "metadata": {},
   "outputs": [
    {
     "name": "stdout",
     "output_type": "stream",
     "text": [
      "d:\\projects\\DL\\AccidentResponseSystem\\reseach\n"
     ]
    }
   ],
   "source": [
    "%cd d:\\projects\\DL\\AccidentResponseSystem\\reseach\\"
   ]
  },
  {
   "cell_type": "code",
   "execution_count": 9,
   "metadata": {},
   "outputs": [
    {
     "data": {
      "text/plain": [
       "'d:\\\\projects\\\\DL\\\\AccidentResponseSystem\\\\reseach'"
      ]
     },
     "execution_count": 9,
     "metadata": {},
     "output_type": "execute_result"
    }
   ],
   "source": [
    "%pwd"
   ]
  },
  {
   "cell_type": "code",
   "execution_count": 10,
   "metadata": {},
   "outputs": [
    {
     "name": "stdout",
     "output_type": "stream",
     "text": [
      "^C\n"
     ]
    }
   ],
   "source": [
    "!yolo task=detect mode=train model=yolov8s.pt data=D:\\projects\\DL\\AccidentResponseSystem\\artifacts\\data_ingestion\\data.yaml epochs=1 imgsz=640\""
   ]
  },
  {
   "cell_type": "code",
   "execution_count": 9,
   "metadata": {},
   "outputs": [
    {
     "data": {
      "text/plain": [
       "0"
      ]
     },
     "execution_count": 9,
     "metadata": {},
     "output_type": "execute_result"
    }
   ],
   "source": [
    "import os\n",
    "\n",
    "#create the directory\n",
    "os.makedirs('D:\\\\projects\\\\DL\\AccidentResponseSystem\\\\artifacts\\\\model_trainer', exist_ok=True)\n",
    "\n",
    "# Source and destination file paths\n",
    "source_model = 'D:\\\\projects\\\\DL\\AccidentResponseSystem\\\\runs\\\\detect\\\\train\\weights\\\\best.pt'\n",
    "destination_model = 'D:\\\\projects\\\\DL\\AccidentResponseSystem\\\\artifacts\\\\model_trainer\\\\'\n",
    "\n",
    "source_matrix = 'D:\\\\projects\\\\DL\\AccidentResponseSystem\\\\runs\\\\detect\\\\train\\\\confusion_matrix.png'\n",
    "destination_matrix = 'D:\\\\projects\\\\DL\\AccidentResponseSystem\\\\artifacts\\\\model_trainer\\\\'\n",
    "\n",
    "\n",
    "# Using the 'copy' command to copy the file\n",
    "os.system(f'copy {source_model} {destination_model}')\n",
    "os.system(f'copy {source_matrix} {destination_matrix}')\n"
   ]
  },
  {
   "cell_type": "code",
   "execution_count": null,
   "metadata": {},
   "outputs": [],
   "source": []
  }
 ],
 "metadata": {
  "kernelspec": {
   "display_name": "Python 3",
   "language": "python",
   "name": "python3"
  },
  "language_info": {
   "codemirror_mode": {
    "name": "ipython",
    "version": 3
   },
   "file_extension": ".py",
   "mimetype": "text/x-python",
   "name": "python",
   "nbconvert_exporter": "python",
   "pygments_lexer": "ipython3",
   "version": "3.8.0"
  }
 },
 "nbformat": 4,
 "nbformat_minor": 2
}
